{
 "cells": [
  {
   "cell_type": "markdown",
   "metadata": {},
   "source": [
    "https://docs.opencv.org/4.x/index.html"
   ]
  },
  {
   "cell_type": "code",
   "execution_count": 4,
   "metadata": {},
   "outputs": [],
   "source": [
    "import numpy as np\n",
    "import matplotlib.pyplot as plt\n",
    "import cv2"
   ]
  },
  {
   "cell_type": "code",
   "execution_count": 5,
   "metadata": {},
   "outputs": [
    {
     "data": {
      "text/plain": [
       "numpy.ndarray"
      ]
     },
     "execution_count": 5,
     "metadata": {},
     "output_type": "execute_result"
    }
   ],
   "source": [
    "#REMEBER ABOUT TYPE TO CHECK IF IT IS CORRECT\n",
    "img = cv2.imread('../DATA/00-puppy.jpg')\n",
    "type(img)"
   ]
  },
  {
   "cell_type": "code",
   "execution_count": 6,
   "metadata": {},
   "outputs": [
    {
     "data": {
      "text/plain": [
       "<matplotlib.image.AxesImage at 0x13f5c18d0>"
      ]
     },
     "execution_count": 6,
     "metadata": {},
     "output_type": "execute_result"
    },
    {
     "data": {
      "image/png": "iVBORw0KGgoAAAANSUhEUgAAAjEAAAF7CAYAAAAjRNpjAAAAOXRFWHRTb2Z0d2FyZQBNYXRwbG90bGliIHZlcnNpb24zLjguMCwgaHR0cHM6Ly9tYXRwbG90bGliLm9yZy81sbWrAAAACXBIWXMAAA9hAAAPYQGoP6dpAAEAAElEQVR4nOz9Xaw2S1oXDv+uqurue631PPvZ8wF7mJfRPyZjYjJ44OBLJCokwBAjUfQAEoiJCQcYPuJkICjhBA2ZiRyAB0QSjBGDQTzRqAkHjDEZNMSEjBKF5CVv8qKAstnMzN7Px1r33d1Vdb0HV1V3dXX1x73W2ntmnr2uvddz33d3fXV1VV2/+tVVVxEzMx7kQR7kQR7kQR7kQb7MRH2xC/AgD/IgD/IgD/IgD3IbeQAxD/IgD/IgD/IgD/JlKQ8g5kEe5EEe5EEe5EG+LOUBxDzIgzzIgzzIgzzIl6U8gJgHeZAHeZAHeZAH+bKUBxDzIA/yIA/yIA/yIF+W8gBiHuRBHuRBHuRBHuTLUh5AzIM8yIM8yIM8yIN8WcoDiHmQB3mQB3mQB3mQL0t5ADEP8iAP8iAP8iAP8mUpX/Ig5p/8k3+Cr/mar8HhcMBHP/pR/Of//J+/2EV6kAd5kAd5kAd5kC8B+ZIGMf/6X/9rfPzjH8eP//iP47//9/+Ov/SX/hL+yl/5K/i93/u9L3bRHuRBHuRBHuRBHuSLLPSlfADk13/91+PP/bk/h5/7uZ8brv2ZP/Nn8B3f8R341Kc+9UUs2YM8yIM8yIM8yIN8scV8sQuwJF3X4bOf/Sz+/t//+5PrH/vYx/Drv/7rs/Bt26Jt2+G39x5f+MIX8L73vQ9E9LaX90Ee5EEe5EEe5EHuLsyM58+f44Mf/CCUWl8w+pIFMZ/73OfgnMNrr702uf7aa6/h9ddfn4X/1Kc+hX/wD/7BO1W8B3mQB3mQB3mQB3kb5fd///fx1V/91athvmRBTJScRWHmIrPyYz/2Y/jEJz4x/H769Cn+xJ/4E/h//4VvhtYGzAywh/devoPhvQdAYJZrDh4A4NkDjHCfwTz+SRl8+B3vAwDL/+yHcGAGI73GIBA4/Dc+Eyb3Pfvsmf3w7Gk9xDhp2ab3ILnF4kgBQZSkFco+Rp+nNcTFNKykMy1XScZ64+L184Wz7/uZti/dxdO3T9L+ktY5ERXfQal/bb2rGCcPd98s6NvFqt423Tze1u9Z/KTtMm7fOMd0YucEmOQqxQvY7iml8Tb9LIUhInC8FvJMMi7UASVxAfB6qVQIyCGtmF6arrRlgBIzz7EIDA5j+zjKKqRjN2Ecc/NnFt1RZgOKY+VCXxnG5NDv0v5XrPdC26HwDCjUQfp7vc7H/Etjw3h/Wd/mZc3DUVAOhDENn8UjiTxPD4DzHl/4oz/G48ePV/MGvoRBzPvf/35orWesyxtvvDFjZwCgaRo0TTO77mwfKkqGCO/cABKYBcjEl+bZCshJAAkgoIb92ODH+H4CMCJIGNS9Dy8RI+CIw01sMClgGcPk4CABSknYNM0cyMQ40nTGNFMQMu2AHrHflO5Pyxi/T/NakvsDLwUZenVyaaacs0HzJZNzFPDSoLempJbCraW3VYZz28DeZ9xK+y4gaBOQrNTFrnrZAca33tMQjpJ3lpdlVj2FnGeYaCkvSoALJcAlU6hpejxVtHHETMOnSp7itSxMXgeKlJQ03hseg8Hhm+dQOB7bMyV5DtcoGVMZYJ7nVwItW0Bmr4yaYBQiAoVBulQX+ffpteW2Ep81LtuMk1MfrhUG2bSshfFdKSVlRRkIMTNUvJbHj4V