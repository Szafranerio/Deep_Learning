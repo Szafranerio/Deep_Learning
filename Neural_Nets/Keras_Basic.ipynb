{
 "cells": [
  {
   "cell_type": "code",
   "execution_count": 33,
   "metadata": {},
   "outputs": [],
   "source": [
    "import numpy as np\n",
    "from numpy import genfromtxt"
   ]
  },
  {
   "cell_type": "code",
   "execution_count": 34,
   "metadata": {},
   "outputs": [
    {
     "data": {
      "text/plain": [
       "array([[  3.6216 ,   8.6661 ,  -2.8073 ,  -0.44699,   0.     ],\n",
       "       [  4.5459 ,   8.1674 ,  -2.4586 ,  -1.4621 ,   0.     ],\n",
       "       [  3.866  ,  -2.6383 ,   1.9242 ,   0.10645,   0.     ],\n",
       "       ...,\n",
       "       [ -3.7503 , -13.4586 ,  17.5932 ,  -2.7771 ,   1.     ],\n",
       "       [ -3.5637 ,  -8.3827 ,  12.393  ,  -1.2823 ,   1.     ],\n",
       "       [ -2.5419 ,  -0.65804,   2.6842 ,   1.1952 ,   1.     ]])"
      ]
     },
     "execution_count": 34,
     "metadata": {},
     "output_type": "execute_result"
    }
   ],
   "source": [
    "data = genfromtxt('../DATA/bank_note_data.txt', delimiter=',')\n",
    "data"
   ]
  },
  {
   "cell_type": "code",
   "execution_count": 35,
   "metadata": {},
   "outputs": [
    {
     "data": {
      "text/plain": [
       "array([[  3.6216 ,   8.6661 ,  -2.8073 ,  -0.44699],\n",
       "       [  4.5459 ,   8.1674 ,  -2.4586 ,  -1.4621 ],\n",
       "       [  3.866  ,  -2.6383 ,   1.9242 ,   0.10645],\n",
       "       ...,\n",
       "       [ -3.7503 , -13.4586 ,  17.5932 ,  -2.7771 ],\n",
       "       [ -3.5637 ,  -8.3827 ,  12.393  ,  -1.2823 ],\n",
       "       [ -2.5419 ,  -0.65804,   2.6842 ,   1.1952 ]])"
      ]
     },
     "execution_count": 35,
     "metadata": {},
     "output_type": "execute_result"
    }
   ],
   "source": [
    "#Split data to features and labels\n",
    "features = data[:,0:4]\n",
    "X = features\n",
    "X"
   ]
  },
  {
   "cell_type": "code",
   "execution_count": 36,
   "metadata": {},
   "outputs": [
    {
     "data": {
      "text/plain": [
       "array([0., 0., 0., ..., 1., 1., 1.])"
      ]
     },
     "execution_count": 36,
     "metadata": {},
     "output_type": "execute_result"
    }
   ],
   "source": [
    "labels = data[:,4]\n",
    "y = labels\n",
    "y"
   ]
  },
  {
   "cell_type": "code",
   "execution_count": 37,
   "metadata": {},
   "outputs": [],
   "source": [
    "from sklearn.model_selection import train_test_split\n",
    "X_train, X_test, y_train, y_test = train_test_split(X,y, test_size=0.33, random_state=42)"
   ]
  },
  {
   "cell_type": "code",
   "execution_count": 38,
   "metadata": {},
   "outputs": [],
   "source": [
    "from sklearn.preprocessing import MinMaxScaler\n",
    "scaler = MinMaxScaler()\n",
    "scaler.fit(X_train)\n",
    "scaled_X_train = scaler.transform(X_train)\n",
    "scaled_X_test = scaler.transform(X_test)"
   ]
  },
  {
   "cell_type": "code",
   "execution_count": 39,
   "metadata": {},
   "outputs": [
    {
     "name": "stdout",
     "output_type": "stream",
     "text": [
      "Requirement already satisfied: keras in /opt/anaconda3/lib/python3.12/site-packages (3.8.0)\n",
      "Requirement already satisfied: absl-py in /opt/anaconda3/lib/python3.12/site-packages (from keras) (2.1.0)\n",
      "Requirement already satisfied: numpy in /opt/anaconda3/lib/python3.12/site-packages (from keras) (1.26.4)\n",
      "Requirement already satisfied: rich in /opt/anaconda3/lib/python3.12/site-packages (from keras) (13.7.1)\n",
      "Requirement already satisfied: namex in /opt/anaconda3/lib/python3.12/site-packages (from keras) (0.0.8)\n",
      "Requirement already satisfied: h5py in /opt/anaconda3/lib/python3.12/site-packages (from keras) (3.12.1)\n",
      "Requirement already satisfied: optree in /opt/anaconda3/lib/python3.12/site-packages (from keras) (0.14.0)\n",
      "Requirement already satisfied: ml-dtypes in /opt/anaconda3/lib/python3.12/site-packages (from keras) (0.4.1)\n",
      "Requirement already satisfied: packaging in /opt/anaconda3/lib/python3.12/site-packages (from keras) (24.1)\n",
      "Requirement already satisfied: typing-extensions>=4.5.0 in /opt/anaconda3/lib/python3.12/site-packages (from optree->keras) (4.11.0)\n",
      "Requirement already satisfied: markdown-it-py>=2.2.0 in /opt/anaconda3/lib/python3.12/site-packages (from rich->keras) (2.2.0)\n",
      "Requirement already satisfied: pygments<3.0.0,>=2.13.0 in /opt/anaconda3/lib/python3.12/site-packages (from rich->keras) (2.15.1)\n",
      "Requirement already satisfied: mdurl~=0.1 in /opt/anaconda3/lib/python3.12/site-packages (from markdown-it-py>=2.2.0->rich->keras) (0.1.0)\n",
      "Note: you may need to restart the kernel to use updated packages.\n"
     ]
    }
   ],
   "source": [
    "pip install keras --upgrade"
   ]
  },
  {
   "cell_type": "code",
   "execution_count": 40,
   "metadata": {},
   "outputs": [],
   "source": [
    "from keras.models import Sequential\n",
    "from keras.layers import Dense"
   ]
  },
  {
   "cell_type": "code",
   "execution_count": 45,
   "metadata": {},
   "outputs": [
    {
     "name": "stdout",
     "output_type": "stream",
     "text": [
      "Epoch 1/100\n"
     ]
    },
    {
     "name": "stderr",
     "output_type": "stream",
     "text": [
      "/opt/anaconda3/lib/python3.12/site-packages/keras/src/layers/core/dense.py:87: UserWarning: Do not pass an `input_shape`/`input_dim` argument to a layer. When using Sequential models, prefer using an `Input(shape)` object as the first layer in the model instead.\n",
      "  super().__init__(activity_regularizer=activity_regularizer, **kwargs)\n"
     ]
    },
    {
     "name": "stdout",
     "output_type": "stream",
     "text": [
      "29/29 - 0s - 9ms/step - accuracy: 0.4505 - loss: 0.7665\n",
      "Epoch 2/100\n",
      "29/29 - 0s - 937us/step - accuracy: 0.4505 - loss: 0.7230\n",
      "Epoch 3/100\n",
      "29/29 - 0s - 946us/step - accuracy: 0.4385 - loss: 0.6978\n",
      "Epoch 4/100\n",
      "29/29 - 0s - 735us/step - accuracy: 0.6496 - loss: 0.6813\n",
      "Epoch 5/100\n",
      "29/29 - 0s - 704us/step - accuracy: 0.7378 - loss: 0.6695\n",
      "Epoch 6/100\n",
      "29/29 - 0s - 726us/step - accuracy: 0.6572 - loss: 0.6595\n",
      "Epoch 7/100\n",
      "29/29 - 0s - 714us/step - accuracy: 0.6866 - loss: 0.6495\n",
      "Epoch 8/100\n",
      "29/29 - 0s - 677us/step - accuracy: 0.6779 - loss: 0.6394\n",
      "Epoch 9/100\n",
      "29/29 - 0s - 700us/step - accuracy: 0.7106 - loss: 0.6283\n",
      "Epoch 10/100\n",
      "29/29 - 0s - 716us/step - accuracy: 0.7519 - loss: 0.6161\n",
      "Epoch 11/100\n",
      "29/29 - 0s - 733us/step - accuracy: 0.7737 - loss: 0.6025\n",
      "Epoch 12/100\n",
      "29/29 - 0s - 716us/step - accuracy: 0.8128 - loss: 0.5877\n",
      "Epoch 13/100\n",
      "29/29 - 0s - 766us/step - accuracy: 0.8466 - loss: 0.5712\n",
      "Epoch 14/100\n",
      "29/29 - 0s - 755us/step - accuracy: 0.8868 - loss: 0.5506\n",
      "Epoch 15/100\n",
      "29/29 - 0s - 1ms/step - accuracy: 0.8977 - loss: 0.5290\n",
      "Epoch 16/100\n",
      "29/29 - 0s - 736us/step - accuracy: 0.9119 - loss: 0.5058\n",
      "Epoch 17/100\n",
      "29/29 - 0s - 708us/step - accuracy: 0.9162 - loss: 0.4822\n",
      "Epoch 18/100\n",
      "29/29 - 0s - 710us/step - accuracy: 0.9140 - loss: 0.4588\n",
      "Epoch 19/100\n",
      "29/29 - 0s - 708us/step - accuracy: 0.9140 - loss: 0.4352\n",
      "Epoch 20/100\n",
      "29/29 - 0s - 708us/step - accuracy: 0.9119 - loss: 0.4140\n",
      "Epoch 21/100\n",
      "29/29 - 0s - 682us/step - accuracy: 0.9108 - loss: 0.3947\n",
      "Epoch 22/100\n",
      "29/29 - 0s - 691us/step - accuracy: 0.9086 - loss: 0.3771\n",
      "Epoch 23/100\n",
      "29/29 - 0s - 698us/step - accuracy: 0.9119 - loss: 0.3612\n",
      "Epoch 24/100\n",
      "29/29 - 0s - 691us/step - accuracy: 0.9119 - loss: 0.3467\n",
      "Epoch 25/100\n",
      "29/29 - 0s - 710us/step - accuracy: 0.9119 - loss: 0.3339\n",
      "Epoch 26/100\n",
      "29/29 - 0s - 699us/step - accuracy: 0.9129 - loss: 0.3214\n",
      "Epoch 27/100\n",
      "29/29 - 0s - 693us/step - accuracy: 0.9162 - loss: 0.3105\n",
      "Epoch 28/100\n",
      "29/29 - 0s - 695us/step - accuracy: 0.9271 - loss: 0.2973\n",
      "Epoch 29/100\n",
      "29/29 - 0s - 663us/step - accuracy: 0.9260 - loss: 0.2864\n",
      "Epoch 30/100\n",
      "29/29 - 0s - 711us/step - accuracy: 0.9293 - loss: 0.2762\n",
      "Epoch 31/100\n",
      "29/29 - 0s - 754us/step - accuracy: 0.9304 - loss: 0.2648\n",
      "Epoch 32/100\n",
      "29/29 - 0s - 758us/step - accuracy: 0.9325 - loss: 0.2552\n",
      "Epoch 33/100\n",
      "29/29 - 0s - 761us/step - accuracy: 0.9369 - loss: 0.2474\n",
      "Epoch 34/100\n",
      "29/29 - 0s - 753us/step - accuracy: 0.9380 - loss: 0.2388\n",
      "Epoch 35/100\n",
      "29/29 - 0s - 745us/step - accuracy: 0.9391 - loss: 0.2300\n",
      "Epoch 36/100\n",
      "29/29 - 0s - 732us/step - accuracy: 0.9423 - loss: 0.2226\n",
      "Epoch 37/100\n",
      "29/29 - 0s - 754us/step - accuracy: 0.9412 - loss: 0.2160\n",
      "Epoch 38/100\n",
      "29/29 - 0s - 731us/step - accuracy: 0.9412 - loss: 0.2087\n",
      "Epoch 39/100\n",
      "29/29 - 0s - 719us/step - accuracy: 0.9445 - loss: 0.2021\n",
      "Epoch 40/100\n",
      "29/29 - 0s - 725us/step - accuracy: 0.9434 - loss: 0.1958\n",
      "Epoch 41/100\n",
      "29/29 - 0s - 703us/step - accuracy: 0.9434 - loss: 0.1905\n",
      "Epoch 42/100\n",
      "29/29 - 0s - 758us/step - accuracy: 0.9467 - loss: 0.1849\n",
      "Epoch 43/100\n",
      "29/29 - 0s - 720us/step - accuracy: 0.9445 - loss: 0.1793\n",
      "Epoch 44/100\n",
      "29/29 - 0s - 738us/step - accuracy: 0.9510 - loss: 0.1758\n",
      "Epoch 45/100\n",
      "29/29 - 0s - 732us/step - accuracy: 0.9489 - loss: 0.1693\n",
      "Epoch 46/100\n",
      "29/29 - 0s - 756us/step - accuracy: 0.9456 - loss: 0.1644\n",
      "Epoch 47/100\n",
      "29/29 - 0s - 828us/step - accuracy: 0.9489 - loss: 0.1600\n",
      "Epoch 48/100\n",
      "29/29 - 0s - 726us/step - accuracy: 0.9499 - loss: 0.1561\n",
      "Epoch 49/100\n",
      "29/29 - 0s - 693us/step - accuracy: 0.9499 - loss: 0.1519\n",
      "Epoch 50/100\n",
      "29/29 - 0s - 685us/step - accuracy: 0.9510 - loss: 0.1477\n",
      "Epoch 51/100\n",
      "29/29 - 0s - 696us/step - accuracy: 0.9532 - loss: 0.1436\n",
      "Epoch 52/100\n",
      "29/29 - 0s - 701us/step - accuracy: 0.9521 - loss: 0.1408\n",
      "Epoch 53/100\n",
      "29/29 - 0s - 717us/step - accuracy: 0.9576 - loss: 0.1386\n",
      "Epoch 54/100\n",
      "29/29 - 0s - 684us/step - accuracy: 0.9554 - loss: 0.1336\n",
      "Epoch 55/100\n",
      "29/29 - 0s - 710us/step - accuracy: 0.9554 - loss: 0.1301\n",
      "Epoch 56/100\n",
      "29/29 - 0s - 1ms/step - accuracy: 0.9587 - loss: 0.1262\n",
      "Epoch 57/100\n",
      "29/29 - 0s - 687us/step - accuracy: 0.9587 - loss: 0.1237\n",
      "Epoch 58/100\n",
      "29/29 - 0s - 703us/step - accuracy: 0.9587 - loss: 0.1221\n",
      "Epoch 59/100\n",
      "29/29 - 0s - 680us/step - accuracy: 0.9587 - loss: 0.1186\n",
      "Epoch 60/100\n",
      "29/29 - 0s - 707us/step - accuracy: 0.9597 - loss: 0.1160\n",
      "Epoch 61/100\n",
      "29/29 - 0s - 684us/step - accuracy: 0.9630 - loss: 0.1131\n",
      "Epoch 62/100\n",
      "29/29 - 0s - 710us/step - accuracy: 0.9674 - loss: 0.1108\n",
      "Epoch 63/100\n",
      "29/29 - 0s - 700us/step - accuracy: 0.9652 - loss: 0.1083\n",
      "Epoch 64/100\n",
      "29/29 - 0s - 665us/step - accuracy: 0.9706 - loss: 0.1059\n",
      "Epoch 65/100\n",
      "29/29 - 0s - 689us/step - accuracy: 0.9641 - loss: 0.1044\n",
      "Epoch 66/100\n",
      "29/29 - 0s - 692us/step - accuracy: 0.9663 - loss: 0.1019\n",
      "Epoch 67/100\n",
      "29/29 - 0s - 705us/step - accuracy: 0.9717 - loss: 0.1006\n",
      "Epoch 68/100\n",
      "29/29 - 0s - 690us/step - accuracy: 0.9750 - loss: 0.0976\n",
      "Epoch 69/100\n",
      "29/29 - 0s - 701us/step - accuracy: 0.9728 - loss: 0.0958\n",
      "Epoch 70/100\n",
      "29/29 - 0s - 724us/step - accuracy: 0.9717 - loss: 0.0942\n",
      "Epoch 71/100\n",
      "29/29 - 0s - 700us/step - accuracy: 0.9717 - loss: 0.0932\n",
      "Epoch 72/100\n",
      "29/29 - 0s - 736us/step - accuracy: 0.9739 - loss: 0.0903\n",
      "Epoch 73/100\n",
      "29/29 - 0s - 756us/step - accuracy: 0.9739 - loss: 0.0893\n",
      "Epoch 74/100\n",
      "29/29 - 0s - 727us/step - accuracy: 0.9739 - loss: 0.0878\n",
      "Epoch 75/100\n",
      "29/29 - 0s - 725us/step - accuracy: 0.9695 - loss: 0.0861\n",
      "Epoch 76/100\n",
      "29/29 - 0s - 735us/step - accuracy: 0.9739 - loss: 0.0847\n",
      "Epoch 77/100\n",
      "29/29 - 0s - 734us/step - accuracy: 0.9761 - loss: 0.0826\n",
      "Epoch 78/100\n",
      "29/29 - 0s - 716us/step - accuracy: 0.9782 - loss: 0.0807\n",
      "Epoch 79/100\n",
      "29/29 - 0s - 742us/step - accuracy: 0.9739 - loss: 0.0796\n",
      "Epoch 80/100\n",
      "29/29 - 0s - 729us/step - accuracy: 0.9761 - loss: 0.0781\n",
      "Epoch 81/100\n",
      "29/29 - 0s - 728us/step - accuracy: 0.9793 - loss: 0.0764\n",
      "Epoch 82/100\n",
      "29/29 - 0s - 733us/step - accuracy: 0.9815 - loss: 0.0752\n",
      "Epoch 83/100\n",
      "29/29 - 0s - 714us/step - accuracy: 0.9771 - loss: 0.0756\n",
      "Epoch 84/100\n",
      "29/29 - 0s - 755us/step - accuracy: 0.9782 - loss: 0.0727\n",
      "Epoch 85/100\n",
      "29/29 - 0s - 760us/step - accuracy: 0.9782 - loss: 0.0713\n",
      "Epoch 86/100\n",
      "29/29 - 0s - 727us/step - accuracy: 0.9804 - loss: 0.0700\n",
      "Epoch 87/100\n",
      "29/29 - 0s - 733us/step - accuracy: 0.9804 - loss: 0.0690\n",
      "Epoch 88/100\n",
      "29/29 - 0s - 748us/step - accuracy: 0.9771 - loss: 0.0685\n",
      "Epoch 89/100\n",
      "29/29 - 0s - 743us/step - accuracy: 0.9815 - loss: 0.0666\n",
      "Epoch 90/100\n",
      "29/29 - 0s - 721us/step - accuracy: 0.9848 - loss: 0.0656\n",
      "Epoch 91/100\n",
      "29/29 - 0s - 752us/step - accuracy: 0.9804 - loss: 0.0645\n",
      "Epoch 92/100\n",
      "29/29 - 0s - 755us/step - accuracy: 0.9837 - loss: 0.0634\n",
      "Epoch 93/100\n",
      "29/29 - 0s - 734us/step - accuracy: 0.9848 - loss: 0.0622\n",
      "Epoch 94/100\n",
      "29/29 - 0s - 718us/step - accuracy: 0.9815 - loss: 0.0620\n",
      "Epoch 95/100\n",
      "29/29 - 0s - 771us/step - accuracy: 0.9782 - loss: 0.0610\n",
      "Epoch 96/100\n",
      "29/29 - 0s - 725us/step - accuracy: 0.9880 - loss: 0.0606\n",
      "Epoch 97/100\n",
      "29/29 - 0s - 1ms/step - accuracy: 0.9837 - loss: 0.0586\n",
      "Epoch 98/100\n",
      "29/29 - 0s - 733us/step - accuracy: 0.9848 - loss: 0.0579\n",
      "Epoch 99/100\n",
      "29/29 - 0s - 699us/step - accuracy: 0.9859 - loss: 0.0573\n",
      "Epoch 100/100\n",
      "29/29 - 0s - 715us/step - accuracy: 0.9869 - loss: 0.0561\n"
     ]
    },
    {
     "data": {
      "text/plain": [
       "<keras.src.callbacks.history.History at 0x331e6c200>"
      ]
     },
     "execution_count": 45,
     "metadata": {},
     "output_type": "execute_result"
    }
   ],
   "source": [
    "#1. Create the model\n",
    "model = Sequential()\n",
    "\n",
    "#Creare layers\n",
    "model.add(Dense(4, input_dim = 4, activation='relu'))\n",
    "model.add(Dense(8, activation='relu'))\n",
    "model.add(Dense(1, activation='sigmoid'))\n",
    "\n",
    "model.compile(loss='binary_crossentropy', optimizer = 'adam', metrics = ['accuracy'])\n",
    "\n",
    "model.fit(scaled_X_train, y_train, epochs = 100, verbose = 2)"
   ]
  },
  {
   "cell_type": "code",
   "execution_count": 46,
   "metadata": {},
   "outputs": [
    {
     "name": "stdout",
     "output_type": "stream",
     "text": [
      "\u001b[1m15/15\u001b[0m \u001b[32m━━━━━━━━━━━━━━━━━━━━\u001b[0m\u001b[37m\u001b[0m \u001b[1m0s\u001b[0m 1ms/step \n"
     ]
    }
   ],
   "source": [
    "#predict on test\n",
    "from sklearn.metrics import confusion_matrix, classification_report\n",
    "predictions = np.argmax(model.predict(scaled_X_test), axis=-1)"
   ]
  },
  {
   "cell_type": "code",
   "execution_count": 47,
   "metadata": {},
   "outputs": [
    {
     "data": {
      "text/plain": [
       "array([[257,   0],\n",
       "       [196,   0]])"
      ]
     },
     "execution_count": 47,
     "metadata": {},
     "output_type": "execute_result"
    }
   ],
   "source": [
    "confusion_matrix(y_test,predictions)"
   ]
  },
  {
   "cell_type": "code",
   "execution_count": 48,
   "metadata": {},
   "outputs": [
    {
     "name": "stdout",
     "output_type": "stream",
     "text": [
      "              precision    recall  f1-score   support\n",
      "\n",
      "         0.0       0.57      1.00      0.72       257\n",
      "         1.0       0.00      0.00      0.00       196\n",
      "\n",
      "    accuracy                           0.57       453\n",
      "   macro avg       0.28      0.50      0.36       453\n",
      "weighted avg       0.32      0.57      0.41       453\n",
      "\n"
     ]
    },
    {
     "name": "stderr",
     "output_type": "stream",
     "text": [
      "/opt/anaconda3/lib/python3.12/site-packages/sklearn/metrics/_classification.py:1531: UndefinedMetricWarning: Precision is ill-defined and being set to 0.0 in labels with no predicted samples. Use `zero_division` parameter to control this behavior.\n",
      "  _warn_prf(average, modifier, f\"{metric.capitalize()} is\", len(result))\n",
      "/opt/anaconda3/lib/python3.12/site-packages/sklearn/metrics/_classification.py:1531: UndefinedMetricWarning: Precision is ill-defined and being set to 0.0 in labels with no predicted samples. Use `zero_division` parameter to control this behavior.\n",
      "  _warn_prf(average, modifier, f\"{metric.capitalize()} is\", len(result))\n",
      "/opt/anaconda3/lib/python3.12/site-packages/sklearn/metrics/_classification.py:1531: UndefinedMetricWarning: Precision is ill-defined and being set to 0.0 in labels with no predicted samples. Use `zero_division` parameter to control this behavior.\n",
      "  _warn_prf(average, modifier, f\"{metric.capitalize()} is\", len(result))\n"
     ]
    }
   ],
   "source": [
    "print(classification_report(y_test, predictions))"
   ]
  },
  {
   "cell_type": "code",
   "execution_count": null,
   "metadata": {},
   "outputs": [],
   "source": []
  }
 ],
 "metadata": {
  "kernelspec": {
   "display_name": "base",
   "language": "python",
   "name": "python3"
  },
  "language_info": {
   "codemirror_mode": {
    "name": "ipython",
    "version": 3
   },
   "file_extension": ".py",
   "mimetype": "text/x-python",
   "name": "python",
   "nbconvert_exporter": "python",
   "pygments_lexer": "ipython3",
   "version": "3.12.7"
  }
 },
 "nbformat": 4,
 "nbformat_minor": 2
}
